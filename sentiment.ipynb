{
 "cells": [
  {
   "cell_type": "markdown",
   "metadata": {},
   "source": [
    "# Sentiment Analysis\n",
    "\n",
    "## This notebook identifies the sentiment of headlines"
   ]
  },
  {
   "cell_type": "code",
   "execution_count": 10,
   "metadata": {},
   "outputs": [],
   "source": [
    "import pandas as pd\n",
    "from nltk.sentiment.vader import SentimentIntensityAnalyzer"
   ]
  },
  {
   "cell_type": "code",
   "execution_count": 20,
   "metadata": {},
   "outputs": [],
   "source": [
    "pd.set_option(\"max_colwidth\",100)"
   ]
  },
  {
   "cell_type": "code",
   "execution_count": 12,
   "metadata": {},
   "outputs": [],
   "source": [
    "headlines = pd.read_csv(\"./data/processed_headlines.csv\")"
   ]
  },
  {
   "cell_type": "code",
   "execution_count": 13,
   "metadata": {},
   "outputs": [
    {
     "data": {
      "text/plain": [
       "0.6468"
      ]
     },
     "execution_count": 13,
     "metadata": {},
     "output_type": "execute_result"
    }
   ],
   "source": [
    "vader = SentimentIntensityAnalyzer()\n",
    "\n",
    "vader.polarity_scores(\"Joe is incredibly happy today!\")[\"compound\"]"
   ]
  },
  {
   "cell_type": "code",
   "execution_count": 14,
   "metadata": {},
   "outputs": [],
   "source": [
    "headlines[\"sentiment_score\"] = headlines[\"title\"].apply(lambda x: vader.polarity_scores(x)[\"compound\"])"
   ]
  },
  {
   "cell_type": "code",
   "execution_count": 15,
   "metadata": {},
   "outputs": [],
   "source": [
    "headlines[\"sentiment_category\"] = headlines[\"sentiment_score\"].apply(lambda score: \"neutral\"\n",
    "                                                                     if -0.4 < score < 0.4\n",
    "                                                                     else 'negative'\n",
    "                                                                     if score < 0\n",
    "                                                                     else 'positive')"
   ]
  },
  {
   "cell_type": "code",
   "execution_count": 16,
   "metadata": {},
   "outputs": [
    {
     "data": {
      "text/plain": [
       "source\n",
       "BBC          -0.053292\n",
       "Daily Mail   -0.221456\n",
       "Name: sentiment_score, dtype: float64"
      ]
     },
     "execution_count": 16,
     "metadata": {},
     "output_type": "execute_result"
    }
   ],
   "source": [
    "headlines.groupby(\"source\")[\"sentiment_score\"].mean()"
   ]
  },
  {
   "cell_type": "code",
   "execution_count": 21,
   "metadata": {},
   "outputs": [
    {
     "data": {
      "text/html": [
       "<div>\n",
       "<style scoped>\n",
       "    .dataframe tbody tr th:only-of-type {\n",
       "        vertical-align: middle;\n",
       "    }\n",
       "\n",
       "    .dataframe tbody tr th {\n",
       "        vertical-align: top;\n",
       "    }\n",
       "\n",
       "    .dataframe thead th {\n",
       "        text-align: right;\n",
       "    }\n",
       "</style>\n",
       "<table border=\"1\" class=\"dataframe\">\n",
       "  <thead>\n",
       "    <tr style=\"text-align: right;\">\n",
       "      <th></th>\n",
       "      <th>title</th>\n",
       "      <th>sentiment_score</th>\n",
       "      <th>source</th>\n",
       "    </tr>\n",
       "  </thead>\n",
       "  <tbody>\n",
       "    <tr>\n",
       "      <th>79</th>\n",
       "      <td>PROFESSOR FRANK FUREDI: The new obsession of museums to wage war on the past means they're not d...</td>\n",
       "      <td>0.6326</td>\n",
       "      <td>Daily Mail</td>\n",
       "    </tr>\n",
       "    <tr>\n",
       "      <th>95</th>\n",
       "      <td>Moment woman chained to the floor of a Kentucky home like a dog is freed by axe-wielding cops</td>\n",
       "      <td>0.6369</td>\n",
       "      <td>Daily Mail</td>\n",
       "    </tr>\n",
       "    <tr>\n",
       "      <th>54</th>\n",
       "      <td>SARAH SANDS: How the rescue of Peggy the short-sighted hedgehog brought such solace in my belove...</td>\n",
       "      <td>0.6597</td>\n",
       "      <td>Daily Mail</td>\n",
       "    </tr>\n",
       "    <tr>\n",
       "      <th>41</th>\n",
       "      <td>PETER HITCHENS: We need a serious debate about the death penalty - but not while our criminal ju...</td>\n",
       "      <td>0.6872</td>\n",
       "      <td>Daily Mail</td>\n",
       "    </tr>\n",
       "    <tr>\n",
       "      <th>4</th>\n",
       "      <td>Yevgeny Prigozhin was assassinated 'as a gift for Zelensky to celebrate Ukraine's victory day to...</td>\n",
       "      <td>0.7650</td>\n",
       "      <td>Daily Mail</td>\n",
       "    </tr>\n",
       "    <tr>\n",
       "      <th>145</th>\n",
       "      <td>World Championships 2023: Josh Kerr 'throws 16 years in the sport at the final 200m' to become 1...</td>\n",
       "      <td>0.7964</td>\n",
       "      <td>BBC</td>\n",
       "    </tr>\n",
       "    <tr>\n",
       "      <th>126</th>\n",
       "      <td>World Championships 2023: Katie Moon and Nina Kennedy share pole vault gold medal in Budapest</td>\n",
       "      <td>0.8176</td>\n",
       "      <td>BBC</td>\n",
       "    </tr>\n",
       "    <tr>\n",
       "      <th>90</th>\n",
       "      <td>Making a splash! Queen Silvia of Sweden stuns in a beautiful blue dress as she joins King Carl G...</td>\n",
       "      <td>0.8221</td>\n",
       "      <td>Daily Mail</td>\n",
       "    </tr>\n",
       "    <tr>\n",
       "      <th>13</th>\n",
       "      <td>Orphaned rescue deer becomes best friends with toddler who spends hours playing with him</td>\n",
       "      <td>0.9081</td>\n",
       "      <td>Daily Mail</td>\n",
       "    </tr>\n",
       "    <tr>\n",
       "      <th>147</th>\n",
       "      <td>World Athletics Championships 2023: Great Britain's Josh Kerr wins stunning 1500m gold</td>\n",
       "      <td>0.9274</td>\n",
       "      <td>BBC</td>\n",
       "    </tr>\n",
       "  </tbody>\n",
       "</table>\n",
       "</div>"
      ],
      "text/plain": [
       "                                                                                                   title  \\\n",
       "79   PROFESSOR FRANK FUREDI: The new obsession of museums to wage war on the past means they're not d...   \n",
       "95         Moment woman chained to the floor of a Kentucky home like a dog is freed by axe-wielding cops   \n",
       "54   SARAH SANDS: How the rescue of Peggy the short-sighted hedgehog brought such solace in my belove...   \n",
       "41   PETER HITCHENS: We need a serious debate about the death penalty - but not while our criminal ju...   \n",
       "4    Yevgeny Prigozhin was assassinated 'as a gift for Zelensky to celebrate Ukraine's victory day to...   \n",
       "145  World Championships 2023: Josh Kerr 'throws 16 years in the sport at the final 200m' to become 1...   \n",
       "126        World Championships 2023: Katie Moon and Nina Kennedy share pole vault gold medal in Budapest   \n",
       "90   Making a splash! Queen Silvia of Sweden stuns in a beautiful blue dress as she joins King Carl G...   \n",
       "13              Orphaned rescue deer becomes best friends with toddler who spends hours playing with him   \n",
       "147               World Athletics Championships 2023: Great Britain's Josh Kerr wins stunning 1500m gold   \n",
       "\n",
       "     sentiment_score      source  \n",
       "79            0.6326  Daily Mail  \n",
       "95            0.6369  Daily Mail  \n",
       "54            0.6597  Daily Mail  \n",
       "41            0.6872  Daily Mail  \n",
       "4             0.7650  Daily Mail  \n",
       "145           0.7964         BBC  \n",
       "126           0.8176         BBC  \n",
       "90            0.8221  Daily Mail  \n",
       "13            0.9081  Daily Mail  \n",
       "147           0.9274         BBC  "
      ]
     },
     "execution_count": 21,
     "metadata": {},
     "output_type": "execute_result"
    }
   ],
   "source": [
    "headlines.sort_values(\"sentiment_score\")[[\"title\", \"sentiment_score\", \"source\"]].tail(10)"
   ]
  }
 ],
 "metadata": {
  "kernelspec": {
   "display_name": "venv",
   "language": "python",
   "name": "python3"
  },
  "language_info": {
   "codemirror_mode": {
    "name": "ipython",
    "version": 3
   },
   "file_extension": ".py",
   "mimetype": "text/x-python",
   "name": "python",
   "nbconvert_exporter": "python",
   "pygments_lexer": "ipython3",
   "version": "3.11.3"
  },
  "orig_nbformat": 4
 },
 "nbformat": 4,
 "nbformat_minor": 2
}
