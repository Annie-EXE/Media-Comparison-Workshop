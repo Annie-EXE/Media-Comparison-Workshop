{
 "cells": [
  {
   "cell_type": "markdown",
   "metadata": {},
   "source": [
    "# Headline processing\n",
    "\n",
    "This notebook cleans the headlines and produces a CSV containing simplified tokens.\n",
    "\n",
    "## Imports"
   ]
  },
  {
   "cell_type": "code",
   "execution_count": 1,
   "metadata": {},
   "outputs": [],
   "source": [
    "import pandas as pd\n",
    "from nltk.tokenize import word_tokenize\n",
    "from nltk.corpus import stopwords\n",
    "from collections import defaultdict\n",
    "from nltk import pos_tag\n",
    "from nltk.stem import WordNetLemmatizer\n",
    "from pandas.core.common import flatten\n",
    "import matplotlib.pyplot as plt\n",
    "import seaborn as sns"
   ]
  },
  {
   "cell_type": "markdown",
   "metadata": {},
   "source": [
    "## Setup"
   ]
  },
  {
   "cell_type": "code",
   "execution_count": 2,
   "metadata": {},
   "outputs": [],
   "source": [
    "pd.set_option(\"max_colwidth\", 0)"
   ]
  },
  {
   "cell_type": "markdown",
   "metadata": {},
   "source": [
    "## Data sourcing"
   ]
  },
  {
   "cell_type": "code",
   "execution_count": 3,
   "metadata": {},
   "outputs": [
    {
     "data": {
      "text/html": [
       "<div>\n",
       "<style scoped>\n",
       "    .dataframe tbody tr th:only-of-type {\n",
       "        vertical-align: middle;\n",
       "    }\n",
       "\n",
       "    .dataframe tbody tr th {\n",
       "        vertical-align: top;\n",
       "    }\n",
       "\n",
       "    .dataframe thead th {\n",
       "        text-align: right;\n",
       "    }\n",
       "</style>\n",
       "<table border=\"1\" class=\"dataframe\">\n",
       "  <thead>\n",
       "    <tr style=\"text-align: right;\">\n",
       "      <th></th>\n",
       "      <th>title</th>\n",
       "      <th>description</th>\n",
       "      <th>link</th>\n",
       "      <th>source</th>\n",
       "    </tr>\n",
       "  </thead>\n",
       "  <tbody>\n",
       "    <tr>\n",
       "      <th>0</th>\n",
       "      <td>GCSE results day 2023 LIVE: Pass grades fall for second year running in England, Wales and Northern Ireland  - with 68.2% marked at 4/C</td>\n",
       "      <td>Follow MailOnline's liveblog today as hundreds of thousands of pupils in England, Wales and Northern Ireland pick up their GCSE results.</td>\n",
       "      <td>https://www.dailymail.co.uk/news/live/article-12439999/gcse-results-day-live-2023-exams-students-college-sixth-form.html?ns_mchannel=rss&amp;ito=1490&amp;ns_campaign=1490</td>\n",
       "      <td>Daily Mail</td>\n",
       "    </tr>\n",
       "    <tr>\n",
       "      <th>1</th>\n",
       "      <td>Wagner 'had full mobilisation plan if Prigozhin was killed' it is claimed as they vow revenge for 'assassination' - as MI6 chief says there are signs Putin 'took him out' in plane crash and if he's not dead 'he soon will be'</td>\n",
       "      <td>Russian outlet Readovka, closely linked with Prigozhin, reported Wagner had a 'long-established mechanism of action in the event of the death of Yevgeny Prigozhin or Dmitry Utkin'.</td>\n",
       "      <td>https://www.dailymail.co.uk/news/article-12440165/Wagner-mobilisation-plan-Prigozhin-killed-claimed-vow-revenge-assassination-MI6-chief-says-signs-Putin-took-plane-crash-hes-not-dead-soon-be.html?ns_mchannel=rss&amp;ito=1490&amp;ns_campaign=1490</td>\n",
       "      <td>Daily Mail</td>\n",
       "    </tr>\n",
       "    <tr>\n",
       "      <th>2</th>\n",
       "      <td>Prince Harry WILL be in the UK on the anniversary of the Queen's death but will 'snub his family' - as it is revealed he faces having to ask King if he can stay at Frogmore Cottage</td>\n",
       "      <td>The Duke of Sussex, 38, is set to fly out from California to London to make an appearance at the WellChild Awards on September 8.</td>\n",
       "      <td>https://www.dailymail.co.uk/news/article-12440111/Prince-Harry-forced-ask-Palaces-permission-accommodation-royal-estate-face-staying-hotel-return-UK-without-Meghan-eve-anniversary-Queens-death-King-evicted-Sussexes-Frogmore-Cottage.html?ns_mchannel=rss&amp;ito=1490&amp;ns_campaign=1490</td>\n",
       "      <td>Daily Mail</td>\n",
       "    </tr>\n",
       "    <tr>\n",
       "      <th>3</th>\n",
       "      <td>Wagner plane crash LIVE: Yevgeny Prigozhin's death risks retaliation in Russia after mercenary group threaten Vladimir Putin</td>\n",
       "      <td>LIVE BLOG: Wagner mercenaries have threatened to march on Moscow after it was claimed warlord Yevgeny Prigozhin was among the dead in a plane crash near the Russian capital.</td>\n",
       "      <td>https://www.dailymail.co.uk/news/live/article-12440113/Wagner-plane-crash-LIVE-Yevgeny-Prigozhin-Putin.html?ns_mchannel=rss&amp;ito=1490&amp;ns_campaign=1490</td>\n",
       "      <td>Daily Mail</td>\n",
       "    </tr>\n",
       "    <tr>\n",
       "      <th>4</th>\n",
       "      <td>Yevgeny Prigozhin was assassinated 'as a gift for Zelensky to celebrate Ukraine's victory day today', Putin's former spokesman claims</td>\n",
       "      <td>Sergei Markov, a stern supporter of the Russian president and formerly a close advisor, said it was 'absolutely clear that Prigozhin [was] killed by [the] Ukrainian intelligence service.'</td>\n",
       "      <td>https://www.dailymail.co.uk/news/article-12440163/Yevgeny-Prigozhin-assassinated-gift-Zelensky-celebrate-Ukraines-victory-day-today-Putins-former-spokesman-claims.html?ns_mchannel=rss&amp;ito=1490&amp;ns_campaign=1490</td>\n",
       "      <td>Daily Mail</td>\n",
       "    </tr>\n",
       "  </tbody>\n",
       "</table>\n",
       "</div>"
      ],
      "text/plain": [
       "                                                                                                                                                                                                                              title  \\\n",
       "0  GCSE results day 2023 LIVE: Pass grades fall for second year running in England, Wales and Northern Ireland  - with 68.2% marked at 4/C                                                                                            \n",
       "1  Wagner 'had full mobilisation plan if Prigozhin was killed' it is claimed as they vow revenge for 'assassination' - as MI6 chief says there are signs Putin 'took him out' in plane crash and if he's not dead 'he soon will be'   \n",
       "2  Prince Harry WILL be in the UK on the anniversary of the Queen's death but will 'snub his family' - as it is revealed he faces having to ask King if he can stay at Frogmore Cottage                                               \n",
       "3  Wagner plane crash LIVE: Yevgeny Prigozhin's death risks retaliation in Russia after mercenary group threaten Vladimir Putin                                                                                                       \n",
       "4  Yevgeny Prigozhin was assassinated 'as a gift for Zelensky to celebrate Ukraine's victory day today', Putin's former spokesman claims                                                                                              \n",
       "\n",
       "                                                                                                                                                                                   description  \\\n",
       "0  Follow MailOnline's liveblog today as hundreds of thousands of pupils in England, Wales and Northern Ireland pick up their GCSE results.                                                      \n",
       "1  Russian outlet Readovka, closely linked with Prigozhin, reported Wagner had a 'long-established mechanism of action in the event of the death of Yevgeny Prigozhin or Dmitry Utkin'.          \n",
       "2  The Duke of Sussex, 38, is set to fly out from California to London to make an appearance at the WellChild Awards on September 8.                                                             \n",
       "3  LIVE BLOG: Wagner mercenaries have threatened to march on Moscow after it was claimed warlord Yevgeny Prigozhin was among the dead in a plane crash near the Russian capital.                 \n",
       "4  Sergei Markov, a stern supporter of the Russian president and formerly a close advisor, said it was 'absolutely clear that Prigozhin [was] killed by [the] Ukrainian intelligence service.'   \n",
       "\n",
       "                                                                                                                                                                                                                                                                                     link  \\\n",
       "0  https://www.dailymail.co.uk/news/live/article-12439999/gcse-results-day-live-2023-exams-students-college-sixth-form.html?ns_mchannel=rss&ito=1490&ns_campaign=1490                                                                                                                       \n",
       "1  https://www.dailymail.co.uk/news/article-12440165/Wagner-mobilisation-plan-Prigozhin-killed-claimed-vow-revenge-assassination-MI6-chief-says-signs-Putin-took-plane-crash-hes-not-dead-soon-be.html?ns_mchannel=rss&ito=1490&ns_campaign=1490                                            \n",
       "2  https://www.dailymail.co.uk/news/article-12440111/Prince-Harry-forced-ask-Palaces-permission-accommodation-royal-estate-face-staying-hotel-return-UK-without-Meghan-eve-anniversary-Queens-death-King-evicted-Sussexes-Frogmore-Cottage.html?ns_mchannel=rss&ito=1490&ns_campaign=1490   \n",
       "3  https://www.dailymail.co.uk/news/live/article-12440113/Wagner-plane-crash-LIVE-Yevgeny-Prigozhin-Putin.html?ns_mchannel=rss&ito=1490&ns_campaign=1490                                                                                                                                    \n",
       "4  https://www.dailymail.co.uk/news/article-12440163/Yevgeny-Prigozhin-assassinated-gift-Zelensky-celebrate-Ukraines-victory-day-today-Putins-former-spokesman-claims.html?ns_mchannel=rss&ito=1490&ns_campaign=1490                                                                        \n",
       "\n",
       "       source  \n",
       "0  Daily Mail  \n",
       "1  Daily Mail  \n",
       "2  Daily Mail  \n",
       "3  Daily Mail  \n",
       "4  Daily Mail  "
      ]
     },
     "execution_count": 3,
     "metadata": {},
     "output_type": "execute_result"
    }
   ],
   "source": [
    "articles = pd.read_csv(\"./data/articles.csv\")\n",
    "\n",
    "articles.head()"
   ]
  },
  {
   "cell_type": "markdown",
   "metadata": {},
   "source": [
    "## Most frequent words\n",
    "\n",
    "### Processing"
   ]
  },
  {
   "cell_type": "code",
   "execution_count": 4,
   "metadata": {},
   "outputs": [],
   "source": [
    "# Subset the data\n",
    "\n",
    "title_df = articles[[\"title\", \"source\"]].copy()"
   ]
  },
  {
   "cell_type": "code",
   "execution_count": 5,
   "metadata": {},
   "outputs": [],
   "source": [
    "title_df[\"keywords\"] = title_df[\"title\"].str.lower()"
   ]
  },
  {
   "cell_type": "code",
   "execution_count": 14,
   "metadata": {},
   "outputs": [
    {
     "data": {
      "text/plain": [
       "0      gcse result day 2023 live pas grade fall second year run england wale northern ireland 68.2 mark 4/c                                   \n",
       "1      wagner had full mobilisation plan prigozhin kill claim vow revenge assassination mi6 chief say sign putin took plane crash dead he soon\n",
       "2      prince harry anniversary queen death snub family reveal face ask king stay frogmore cottage                                            \n",
       "3      wagner plane crash live yevgeny prigozhin death risk retaliation russia mercenary group threaten vladimir putin                        \n",
       "4      yevgeny prigozhin assassinate as gift zelensky celebrate ukraine victory day today putin former spokesman claim                        \n",
       "                                                            ...                                                                               \n",
       "163    mortgage rate five way save money                                                                                                      \n",
       "164    inflation rate calculator much price rise                                                                                              \n",
       "165    rent increase rise landlord                                                                                                            \n",
       "166    cost living five tip ask pay rise                                                                                                      \n",
       "167    rent price much area                                                                                                                   \n",
       "Name: keywords, Length: 168, dtype: object"
      ]
     },
     "execution_count": 14,
     "metadata": {},
     "output_type": "execute_result"
    }
   ],
   "source": [
    "title_df[\"keywords\"]"
   ]
  },
  {
   "cell_type": "code",
   "execution_count": 6,
   "metadata": {},
   "outputs": [],
   "source": [
    "# Split into tokens\n",
    "\n",
    "title_df[\"keywords\"] = title_df[\"keywords\"].apply(word_tokenize)"
   ]
  },
  {
   "cell_type": "code",
   "execution_count": 7,
   "metadata": {},
   "outputs": [],
   "source": [
    "\n",
    "# Create an object that can be used to lemmatise\n",
    "\n",
    "lemma = WordNetLemmatizer()\n",
    "\n",
    "# Create a dictionary to map tags to ones that the lemmatiser will understand.\n",
    "\n",
    "tag_map = defaultdict(lambda : \"n\")  # by default, assume nouns\n",
    "tag_map['J'] = \"a\"  # adjectives\n",
    "tag_map['V'] = \"v\"  # verbs\n",
    "tag_map['R'] = \"r\"  # adverbs\n",
    "\n",
    "# Create a function to get the pos tags for a set of tokens, and return the tokens in a way the\n",
    "# lemmatizer can interpret\n",
    "def get_wordnet_tags(tokens):\n",
    "    \"\"\"Returns WordNet pos_tags for a set of tokens\"\"\"\n",
    "    \n",
    "    # Tag tokens with pos_tagger\n",
    "    tagged_tokens = pos_tag(tokens)\n",
    "    \n",
    "    # Convert each tag to a version wordnet can understand\n",
    "    tagged_tokens = [(token[0], tag_map[token[1][0]]) for token in tagged_tokens]\n",
    "    \n",
    "    return tagged_tokens"
   ]
  },
  {
   "cell_type": "code",
   "execution_count": 8,
   "metadata": {},
   "outputs": [],
   "source": [
    "# pos_tag the tokens\n",
    "\n",
    "title_df[\"keywords\"] = title_df[\"keywords\"].apply(get_wordnet_tags)\n",
    "\n",
    "# Lemmatise the tokens\n",
    "\n",
    "title_df[\"keywords\"] = title_df[\"keywords\"].apply(lambda tokens: [lemma.lemmatize(word=token[0], pos=token[1]) for token in tokens])"
   ]
  },
  {
   "cell_type": "code",
   "execution_count": 15,
   "metadata": {},
   "outputs": [],
   "source": [
    "# Filter out punctuation, stop words, and very short words\n",
    "\n",
    "stops = stopwords.words(\"english\")\n",
    "\n",
    "# Add specific stopwords\n",
    "\n",
    "stops.extend([\"n't\"])\n",
    "\n",
    "important_short_words = [\"pm\", \"us\", \"uk\", \"gb\"]\n",
    "\n",
    "def filter_tokens(tokens):\n",
    "\n",
    "    return [t for t in tokens\n",
    "            if t not in stops\n",
    "            and (len(t) > 2\n",
    "            or t in important_short_words)]\n",
    "\n",
    "title_df[\"keywords\"] = title_df[\"keywords\"].apply(filter_tokens)"
   ]
  },
  {
   "cell_type": "code",
   "execution_count": 16,
   "metadata": {},
   "outputs": [],
   "source": [
    "# Remove specifically apostrophes\n",
    "\n",
    "title_df[\"keywords\"] = title_df[\"keywords\"].apply(lambda tokens: [x.replace(\"'\", \"\") for x in tokens])"
   ]
  },
  {
   "cell_type": "code",
   "execution_count": 17,
   "metadata": {},
   "outputs": [],
   "source": [
    "# Join token lists back into strings\n",
    "\n",
    "title_df[\"keywords\"] = title_df[\"keywords\"].apply(lambda tokens: \" \".join(tokens))"
   ]
  },
  {
   "cell_type": "code",
   "execution_count": 18,
   "metadata": {},
   "outputs": [
    {
     "data": {
      "text/html": [
       "<div>\n",
       "<style scoped>\n",
       "    .dataframe tbody tr th:only-of-type {\n",
       "        vertical-align: middle;\n",
       "    }\n",
       "\n",
       "    .dataframe tbody tr th {\n",
       "        vertical-align: top;\n",
       "    }\n",
       "\n",
       "    .dataframe thead th {\n",
       "        text-align: right;\n",
       "    }\n",
       "</style>\n",
       "<table border=\"1\" class=\"dataframe\">\n",
       "  <thead>\n",
       "    <tr style=\"text-align: right;\">\n",
       "      <th></th>\n",
       "      <th>title</th>\n",
       "      <th>source</th>\n",
       "      <th>keywords</th>\n",
       "    </tr>\n",
       "  </thead>\n",
       "  <tbody>\n",
       "    <tr>\n",
       "      <th>80</th>\n",
       "      <td>Which oil should you crack open with dinner?</td>\n",
       "      <td>Daily Mail</td>\n",
       "      <td></td>\n",
       "    </tr>\n",
       "    <tr>\n",
       "      <th>53</th>\n",
       "      <td>Murder investigation launched after Stagecoach bus driver, 23, is killed in horror crash with van</td>\n",
       "      <td>Daily Mail</td>\n",
       "      <td></td>\n",
       "    </tr>\n",
       "    <tr>\n",
       "      <th>153</th>\n",
       "      <td>What are T-levels and what are the grades worth?</td>\n",
       "      <td>BBC</td>\n",
       "      <td></td>\n",
       "    </tr>\n",
       "  </tbody>\n",
       "</table>\n",
       "</div>"
      ],
      "text/plain": [
       "                                                                                                 title  \\\n",
       "80   Which oil should you crack open with dinner?                                                        \n",
       "53   Murder investigation launched after Stagecoach bus driver, 23, is killed in horror crash with van   \n",
       "153  What are T-levels and what are the grades worth?                                                    \n",
       "\n",
       "         source keywords  \n",
       "80   Daily Mail           \n",
       "53   Daily Mail           \n",
       "153  BBC                  "
      ]
     },
     "execution_count": 18,
     "metadata": {},
     "output_type": "execute_result"
    }
   ],
   "source": [
    "title_df.sample(3)"
   ]
  },
  {
   "cell_type": "markdown",
   "metadata": {},
   "source": [
    "## Data export"
   ]
  },
  {
   "cell_type": "code",
   "execution_count": 13,
   "metadata": {},
   "outputs": [],
   "source": [
    "title_df.to_csv(\"./data/processed_headlines.csv\", index=False)"
   ]
  }
 ],
 "metadata": {
  "kernelspec": {
   "display_name": "venv",
   "language": "python",
   "name": "python3"
  },
  "language_info": {
   "codemirror_mode": {
    "name": "ipython",
    "version": 3
   },
   "file_extension": ".py",
   "mimetype": "text/x-python",
   "name": "python",
   "nbconvert_exporter": "python",
   "pygments_lexer": "ipython3",
   "version": "3.11.3"
  },
  "orig_nbformat": 4
 },
 "nbformat": 4,
 "nbformat_minor": 2
}
