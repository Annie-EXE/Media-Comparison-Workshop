{
 "cells": [
  {
   "cell_type": "markdown",
   "metadata": {},
   "source": [
    "# Headline processing\n",
    "\n",
    "This notebook cleans the headlines and produces a CSV containing simplified tokens.\n",
    "\n",
    "## Imports"
   ]
  },
  {
   "cell_type": "code",
   "execution_count": 13,
   "metadata": {},
   "outputs": [],
   "source": [
    "import pandas as pd\n",
    "from nltk.tokenize import word_tokenize\n",
    "from nltk.corpus import stopwords\n",
    "from collections import defaultdict\n",
    "from nltk import pos_tag\n",
    "from nltk.stem import WordNetLemmatizer\n",
    "from pandas.core.common import flatten\n",
    "import matplotlib.pyplot as plt\n",
    "import seaborn as sns"
   ]
  },
  {
   "cell_type": "markdown",
   "metadata": {},
   "source": [
    "## Setup"
   ]
  },
  {
   "cell_type": "code",
   "execution_count": 14,
   "metadata": {},
   "outputs": [],
   "source": [
    "pd.set_option(\"max_colwidth\", 0)"
   ]
  },
  {
   "cell_type": "markdown",
   "metadata": {},
   "source": [
    "## Data sourcing"
   ]
  },
  {
   "cell_type": "code",
   "execution_count": 15,
   "metadata": {},
   "outputs": [
    {
     "data": {
      "text/html": [
       "<div>\n",
       "<style scoped>\n",
       "    .dataframe tbody tr th:only-of-type {\n",
       "        vertical-align: middle;\n",
       "    }\n",
       "\n",
       "    .dataframe tbody tr th {\n",
       "        vertical-align: top;\n",
       "    }\n",
       "\n",
       "    .dataframe thead th {\n",
       "        text-align: right;\n",
       "    }\n",
       "</style>\n",
       "<table border=\"1\" class=\"dataframe\">\n",
       "  <thead>\n",
       "    <tr style=\"text-align: right;\">\n",
       "      <th></th>\n",
       "      <th>title</th>\n",
       "      <th>description</th>\n",
       "      <th>link</th>\n",
       "      <th>source</th>\n",
       "    </tr>\n",
       "  </thead>\n",
       "  <tbody>\n",
       "    <tr>\n",
       "      <th>0</th>\n",
       "      <td>From Gemma Collins in the diary room to jokes about hyperventilating into a paper bag: A Level students flood social media with hilarious memes as they collect their exam results</td>\n",
       "      <td>The long-awaited decision day at the end of the summer holidays has arrived - and with it many emotions, from jubilation to disappointment to grudging acceptance.</td>\n",
       "      <td>https://www.dailymail.co.uk/news/article-12416495/From-Gemma-Collins-diary-room-jokes-hyperventilating-paper-bag-Level-students-flood-social-media-hilarious-memes-collect-exam-results.html?ns_mchannel=rss&amp;ito=1490&amp;ns_campaign=1490</td>\n",
       "      <td>Daily Mail</td>\n",
       "    </tr>\n",
       "    <tr>\n",
       "      <th>1</th>\n",
       "      <td>How Michael Parkinson sparred with Muhammad Ali, fell out with Meg Ryan and enraged Helen Mirren: Talk show giant's greatest interviews as he dies at 88</td>\n",
       "      <td>Affectionately known simply as Parky, Sir Michael Parkinson was one of the world's greatest interviewers.</td>\n",
       "      <td>https://www.dailymail.co.uk/tvshowbiz/article-12416303/How-Michael-Parkinson-sparred-Muhammad-Ali-enraged-Helen-Mirren-fell-Meg-Ryan-Talk-giants-greatest-interviews-dies-88.html?ns_mchannel=rss&amp;ito=1490&amp;ns_campaign=1490</td>\n",
       "      <td>Daily Mail</td>\n",
       "    </tr>\n",
       "    <tr>\n",
       "      <th>2</th>\n",
       "      <td>Pupils fume they've been 'completely screwed over' by return to pre-Covid marking after top grades drop by 9% in a year - while universities start to run out of Clearing places as thousands miss out on their preferred choices</td>\n",
       "      <td>This year's pupils who received their A-level results today did not sit GCSE exams two years ago and were awarded teacher-assessed grades amid the pandemic.</td>\n",
       "      <td>https://www.dailymail.co.uk/news/article-12416943/Pupils-fume-theyve-completely-screwed-level-results.html?ns_mchannel=rss&amp;ito=1490&amp;ns_campaign=1490</td>\n",
       "      <td>Daily Mail</td>\n",
       "    </tr>\n",
       "    <tr>\n",
       "      <th>3</th>\n",
       "      <td>Moment Greek tennis star Stefanos Tsitsipas confronts woman in the crowd imitating a bee to put him off his stroke every time he serves…but he still wins the match</td>\n",
       "      <td>A woman has apologised after she was confronted by Stefanos Tsitsipas for imitating a bee in a bizarre incident during his match at the Cincinnati Masters.</td>\n",
       "      <td>https://www.dailymail.co.uk/news/article-12417041/Stefanos-Tsitsipas-confronts-woman-imitating-bee.html?ns_mchannel=rss&amp;ito=1490&amp;ns_campaign=1490</td>\n",
       "      <td>Daily Mail</td>\n",
       "    </tr>\n",
       "    <tr>\n",
       "      <th>4</th>\n",
       "      <td>The Reckoning FIRST LOOK: Steve Coogan transforms into depraved presenter Jimmy Savile ahead of new series after BBC delayed broadcast over 'fierce response from victims'</td>\n",
       "      <td>The first official still for the new Jimmy Saville drama, The Reckoning, has been released ahead of its broadcast later this year.</td>\n",
       "      <td>https://www.dailymail.co.uk/tvshowbiz/article-12416995/The-Reckoning-LOOK-Steve-Coogan-transforms-depraved-presenter-Jimmy-Savile-ahead-new-series-BBC-delayed-broadcast-fierce-response-victims.html?ns_mchannel=rss&amp;ito=1490&amp;ns_campaign=1490</td>\n",
       "      <td>Daily Mail</td>\n",
       "    </tr>\n",
       "  </tbody>\n",
       "</table>\n",
       "</div>"
      ],
      "text/plain": [
       "                                                                                                                                                                                                                               title  \\\n",
       "0  From Gemma Collins in the diary room to jokes about hyperventilating into a paper bag: A Level students flood social media with hilarious memes as they collect their exam results                                                  \n",
       "1  How Michael Parkinson sparred with Muhammad Ali, fell out with Meg Ryan and enraged Helen Mirren: Talk show giant's greatest interviews as he dies at 88                                                                            \n",
       "2  Pupils fume they've been 'completely screwed over' by return to pre-Covid marking after top grades drop by 9% in a year - while universities start to run out of Clearing places as thousands miss out on their preferred choices   \n",
       "3  Moment Greek tennis star Stefanos Tsitsipas confronts woman in the crowd imitating a bee to put him off his stroke every time he serves…but he still wins the match                                                                 \n",
       "4  The Reckoning FIRST LOOK: Steve Coogan transforms into depraved presenter Jimmy Savile ahead of new series after BBC delayed broadcast over 'fierce response from victims'                                                          \n",
       "\n",
       "                                                                                                                                                          description  \\\n",
       "0  The long-awaited decision day at the end of the summer holidays has arrived - and with it many emotions, from jubilation to disappointment to grudging acceptance.   \n",
       "1  Affectionately known simply as Parky, Sir Michael Parkinson was one of the world's greatest interviewers.                                                            \n",
       "2  This year's pupils who received their A-level results today did not sit GCSE exams two years ago and were awarded teacher-assessed grades amid the pandemic.         \n",
       "3  A woman has apologised after she was confronted by Stefanos Tsitsipas for imitating a bee in a bizarre incident during his match at the Cincinnati Masters.          \n",
       "4  The first official still for the new Jimmy Saville drama, The Reckoning, has been released ahead of its broadcast later this year.                                   \n",
       "\n",
       "                                                                                                                                                                                                                                              link  \\\n",
       "0  https://www.dailymail.co.uk/news/article-12416495/From-Gemma-Collins-diary-room-jokes-hyperventilating-paper-bag-Level-students-flood-social-media-hilarious-memes-collect-exam-results.html?ns_mchannel=rss&ito=1490&ns_campaign=1490            \n",
       "1  https://www.dailymail.co.uk/tvshowbiz/article-12416303/How-Michael-Parkinson-sparred-Muhammad-Ali-enraged-Helen-Mirren-fell-Meg-Ryan-Talk-giants-greatest-interviews-dies-88.html?ns_mchannel=rss&ito=1490&ns_campaign=1490                       \n",
       "2  https://www.dailymail.co.uk/news/article-12416943/Pupils-fume-theyve-completely-screwed-level-results.html?ns_mchannel=rss&ito=1490&ns_campaign=1490                                                                                              \n",
       "3  https://www.dailymail.co.uk/news/article-12417041/Stefanos-Tsitsipas-confronts-woman-imitating-bee.html?ns_mchannel=rss&ito=1490&ns_campaign=1490                                                                                                 \n",
       "4  https://www.dailymail.co.uk/tvshowbiz/article-12416995/The-Reckoning-LOOK-Steve-Coogan-transforms-depraved-presenter-Jimmy-Savile-ahead-new-series-BBC-delayed-broadcast-fierce-response-victims.html?ns_mchannel=rss&ito=1490&ns_campaign=1490   \n",
       "\n",
       "       source  \n",
       "0  Daily Mail  \n",
       "1  Daily Mail  \n",
       "2  Daily Mail  \n",
       "3  Daily Mail  \n",
       "4  Daily Mail  "
      ]
     },
     "execution_count": 15,
     "metadata": {},
     "output_type": "execute_result"
    }
   ],
   "source": [
    "articles = pd.read_csv(\"./data/articles.csv\")\n",
    "\n",
    "articles.head()"
   ]
  },
  {
   "cell_type": "markdown",
   "metadata": {},
   "source": [
    "## Most frequent words\n",
    "\n",
    "### Processing"
   ]
  },
  {
   "cell_type": "code",
   "execution_count": 16,
   "metadata": {},
   "outputs": [],
   "source": [
    "# Subset the data\n",
    "\n",
    "title_df = articles[[\"title\", \"source\"]].copy()"
   ]
  },
  {
   "cell_type": "code",
   "execution_count": 17,
   "metadata": {},
   "outputs": [],
   "source": [
    "title_df[\"keywords\"] = title_df[\"title\"].str.lower()"
   ]
  },
  {
   "cell_type": "code",
   "execution_count": 18,
   "metadata": {},
   "outputs": [],
   "source": [
    "# Split into tokens\n",
    "\n",
    "title_df[\"keywords\"] = title_df[\"keywords\"].apply(word_tokenize)"
   ]
  },
  {
   "cell_type": "code",
   "execution_count": 19,
   "metadata": {},
   "outputs": [],
   "source": [
    "\n",
    "# Create an object that can be used to lemmatise\n",
    "\n",
    "lemma = WordNetLemmatizer()\n",
    "\n",
    "# Create a dictionary to map tags to ones that the lemmatiser will understand.\n",
    "\n",
    "tag_map = defaultdict(lambda : \"n\")  # by default, assume nouns\n",
    "tag_map['J'] = \"a\"  # adjectives\n",
    "tag_map['V'] = \"v\"  # verbs\n",
    "tag_map['R'] = \"r\"  # adverbs\n",
    "\n",
    "# Create a function to get the pos tags for a set of tokens, and return the tokens in a way the\n",
    "# lemmatizer can interpret\n",
    "def get_wordnet_tags(tokens):\n",
    "    \"\"\"Returns WordNet pos_tags for a set of tokens\"\"\"\n",
    "    \n",
    "    # Tag tokens with pos_tagger\n",
    "    tagged_tokens = pos_tag(tokens)\n",
    "    \n",
    "    # Convert each tag to a version wordnet can understand\n",
    "    tagged_tokens = [(token[0], tag_map[token[1][0]]) for token in tagged_tokens]\n",
    "    \n",
    "    return tagged_tokens"
   ]
  },
  {
   "cell_type": "code",
   "execution_count": 20,
   "metadata": {},
   "outputs": [],
   "source": [
    "# pos_tag the tokens\n",
    "\n",
    "title_df[\"keywords\"] = title_df[\"keywords\"].apply(get_wordnet_tags)\n",
    "\n",
    "# Lemmatise the tokens\n",
    "\n",
    "title_df[\"keywords\"] = title_df[\"keywords\"].apply(lambda tokens: [lemma.lemmatize(word=token[0], pos=token[1]) for token in tokens])"
   ]
  },
  {
   "cell_type": "code",
   "execution_count": 21,
   "metadata": {},
   "outputs": [],
   "source": [
    "# Filter out punctuation, stop words, and very short words\n",
    "\n",
    "stops = stopwords.words(\"english\")\n",
    "\n",
    "# Add specific stopwords\n",
    "\n",
    "stops.extend([\"n't\"])\n",
    "\n",
    "def filter_tokens(tokens):\n",
    "\n",
    "    return [t for t in tokens\n",
    "            if t not in stops\n",
    "            and len(t) > 2]\n",
    "\n",
    "title_df[\"keywords\"] = title_df[\"keywords\"].apply(filter_tokens)"
   ]
  },
  {
   "cell_type": "code",
   "execution_count": 22,
   "metadata": {},
   "outputs": [],
   "source": [
    "# Remove specifically apostrophes\n",
    "\n",
    "title_df[\"keywords\"] = title_df[\"keywords\"].apply(lambda tokens: [x.replace(\"'\", \"\") for x in tokens])"
   ]
  },
  {
   "cell_type": "code",
   "execution_count": 23,
   "metadata": {},
   "outputs": [],
   "source": [
    "# Join token lists back into strings\n",
    "\n",
    "title_df[\"keywords\"] = title_df[\"keywords\"].apply(lambda tokens: \" \".join(tokens))"
   ]
  },
  {
   "cell_type": "code",
   "execution_count": 24,
   "metadata": {},
   "outputs": [
    {
     "data": {
      "text/html": [
       "<div>\n",
       "<style scoped>\n",
       "    .dataframe tbody tr th:only-of-type {\n",
       "        vertical-align: middle;\n",
       "    }\n",
       "\n",
       "    .dataframe tbody tr th {\n",
       "        vertical-align: top;\n",
       "    }\n",
       "\n",
       "    .dataframe thead th {\n",
       "        text-align: right;\n",
       "    }\n",
       "</style>\n",
       "<table border=\"1\" class=\"dataframe\">\n",
       "  <thead>\n",
       "    <tr style=\"text-align: right;\">\n",
       "      <th></th>\n",
       "      <th>title</th>\n",
       "      <th>source</th>\n",
       "      <th>keywords</th>\n",
       "    </tr>\n",
       "  </thead>\n",
       "  <tbody>\n",
       "    <tr>\n",
       "      <th>125</th>\n",
       "      <td>Saeed Roustaee: Martin Scorsese backs director jailed in Iran for Cannes screening</td>\n",
       "      <td>BBC</td>\n",
       "      <td>saeed roustaee martin scorsese back director jail iran cannes screen</td>\n",
       "    </tr>\n",
       "    <tr>\n",
       "      <th>75</th>\n",
       "      <td>Ireland star Ruesha Littlejohn delights in England knocking out Australia from the Women's World Cup after Aussie player went on holiday with her ex-girlfriend, leading to a handshake spat</td>\n",
       "      <td>Daily Mail</td>\n",
       "      <td>ireland star ruesha littlejohn delight england knock australia woman world cup aussie player holiday ex-girlfriend lead handshake spat</td>\n",
       "    </tr>\n",
       "    <tr>\n",
       "      <th>98</th>\n",
       "      <td>Jamie Foxx says he is 'finally starting to feel like' himself again after terrifying  health scare that left him hospitalized for MONTHS: 'I can see the light'</td>\n",
       "      <td>Daily Mail</td>\n",
       "      <td>jamie foxx say finally start feel like terrify health scare leave hospitalize month see light</td>\n",
       "    </tr>\n",
       "  </tbody>\n",
       "</table>\n",
       "</div>"
      ],
      "text/plain": [
       "                                                                                                                                                                                            title  \\\n",
       "125  Saeed Roustaee: Martin Scorsese backs director jailed in Iran for Cannes screening                                                                                                             \n",
       "75   Ireland star Ruesha Littlejohn delights in England knocking out Australia from the Women's World Cup after Aussie player went on holiday with her ex-girlfriend, leading to a handshake spat   \n",
       "98   Jamie Foxx says he is 'finally starting to feel like' himself again after terrifying  health scare that left him hospitalized for MONTHS: 'I can see the light'                                \n",
       "\n",
       "         source  \\\n",
       "125  BBC          \n",
       "75   Daily Mail   \n",
       "98   Daily Mail   \n",
       "\n",
       "                                                                                                                                   keywords  \n",
       "125  saeed roustaee martin scorsese back director jail iran cannes screen                                                                    \n",
       "75   ireland star ruesha littlejohn delight england knock australia woman world cup aussie player holiday ex-girlfriend lead handshake spat  \n",
       "98   jamie foxx say finally start feel like terrify health scare leave hospitalize month see light                                           "
      ]
     },
     "execution_count": 24,
     "metadata": {},
     "output_type": "execute_result"
    }
   ],
   "source": [
    "title_df.sample(3)"
   ]
  },
  {
   "cell_type": "markdown",
   "metadata": {},
   "source": [
    "## Data export"
   ]
  },
  {
   "cell_type": "code",
   "execution_count": 25,
   "metadata": {},
   "outputs": [],
   "source": [
    "title_df.to_csv(\"./data/processed_headlines.csv\", index=False)"
   ]
  }
 ],
 "metadata": {
  "kernelspec": {
   "display_name": "venv",
   "language": "python",
   "name": "python3"
  },
  "language_info": {
   "codemirror_mode": {
    "name": "ipython",
    "version": 3
   },
   "file_extension": ".py",
   "mimetype": "text/x-python",
   "name": "python",
   "nbconvert_exporter": "python",
   "pygments_lexer": "ipython3",
   "version": "3.11.4"
  },
  "orig_nbformat": 4
 },
 "nbformat": 4,
 "nbformat_minor": 2
}
