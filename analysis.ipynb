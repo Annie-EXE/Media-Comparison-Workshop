{
 "cells": [
  {
   "cell_type": "markdown",
   "metadata": {},
   "source": [
    "# Article analysis\n",
    "\n",
    "## Imports"
   ]
  },
  {
   "cell_type": "code",
   "execution_count": 92,
   "metadata": {},
   "outputs": [],
   "source": [
    "import pandas as pd\n",
    "from nltk.tokenize import word_tokenize\n",
    "from nltk.corpus import stopwords\n",
    "from pandas.core.common import flatten\n",
    "import matplotlib.pyplot as plt\n",
    "import seaborn as sns"
   ]
  },
  {
   "cell_type": "markdown",
   "metadata": {},
   "source": [
    "## Setup"
   ]
  },
  {
   "cell_type": "code",
   "execution_count": 93,
   "metadata": {},
   "outputs": [],
   "source": [
    "pd.set_option(\"max_colwidth\", 0)"
   ]
  },
  {
   "cell_type": "markdown",
   "metadata": {},
   "source": [
    "## Data sourcing"
   ]
  },
  {
   "cell_type": "code",
   "execution_count": 94,
   "metadata": {},
   "outputs": [
    {
     "data": {
      "text/html": [
       "<div>\n",
       "<style scoped>\n",
       "    .dataframe tbody tr th:only-of-type {\n",
       "        vertical-align: middle;\n",
       "    }\n",
       "\n",
       "    .dataframe tbody tr th {\n",
       "        vertical-align: top;\n",
       "    }\n",
       "\n",
       "    .dataframe thead th {\n",
       "        text-align: right;\n",
       "    }\n",
       "</style>\n",
       "<table border=\"1\" class=\"dataframe\">\n",
       "  <thead>\n",
       "    <tr style=\"text-align: right;\">\n",
       "      <th></th>\n",
       "      <th>title</th>\n",
       "      <th>description</th>\n",
       "      <th>link</th>\n",
       "      <th>source</th>\n",
       "    </tr>\n",
       "  </thead>\n",
       "  <tbody>\n",
       "    <tr>\n",
       "      <th>0</th>\n",
       "      <td>From Gemma Collins in the diary room to jokes about hyperventilating into a paper bag: A Level students flood social media with hilarious memes as they collect their exam results</td>\n",
       "      <td>The long-awaited decision day at the end of the summer holidays has arrived - and with it many emotions, from jubilation to disappointment to grudging acceptance.</td>\n",
       "      <td>https://www.dailymail.co.uk/news/article-12416495/From-Gemma-Collins-diary-room-jokes-hyperventilating-paper-bag-Level-students-flood-social-media-hilarious-memes-collect-exam-results.html?ns_mchannel=rss&amp;ito=1490&amp;ns_campaign=1490</td>\n",
       "      <td>Daily Mail</td>\n",
       "    </tr>\n",
       "    <tr>\n",
       "      <th>1</th>\n",
       "      <td>How Michael Parkinson sparred with Muhammad Ali, fell out with Meg Ryan and enraged Helen Mirren: Talk show giant's greatest interviews as he dies at 88</td>\n",
       "      <td>Affectionately known simply as Parky, Sir Michael Parkinson was one of the world's greatest interviewers.</td>\n",
       "      <td>https://www.dailymail.co.uk/tvshowbiz/article-12416303/How-Michael-Parkinson-sparred-Muhammad-Ali-enraged-Helen-Mirren-fell-Meg-Ryan-Talk-giants-greatest-interviews-dies-88.html?ns_mchannel=rss&amp;ito=1490&amp;ns_campaign=1490</td>\n",
       "      <td>Daily Mail</td>\n",
       "    </tr>\n",
       "    <tr>\n",
       "      <th>2</th>\n",
       "      <td>Pupils fume they've been 'completely screwed over' by return to pre-Covid marking after top grades drop by 9% in a year - while universities start to run out of Clearing places as thousands miss out on their preferred choices</td>\n",
       "      <td>This year's pupils who received their A-level results today did not sit GCSE exams two years ago and were awarded teacher-assessed grades amid the pandemic.</td>\n",
       "      <td>https://www.dailymail.co.uk/news/article-12416943/Pupils-fume-theyve-completely-screwed-level-results.html?ns_mchannel=rss&amp;ito=1490&amp;ns_campaign=1490</td>\n",
       "      <td>Daily Mail</td>\n",
       "    </tr>\n",
       "    <tr>\n",
       "      <th>3</th>\n",
       "      <td>Moment Greek tennis star Stefanos Tsitsipas confronts woman in the crowd imitating a bee to put him off his stroke every time he serves…but he still wins the match</td>\n",
       "      <td>A woman has apologised after she was confronted by Stefanos Tsitsipas for imitating a bee in a bizarre incident during his match at the Cincinnati Masters.</td>\n",
       "      <td>https://www.dailymail.co.uk/news/article-12417041/Stefanos-Tsitsipas-confronts-woman-imitating-bee.html?ns_mchannel=rss&amp;ito=1490&amp;ns_campaign=1490</td>\n",
       "      <td>Daily Mail</td>\n",
       "    </tr>\n",
       "    <tr>\n",
       "      <th>4</th>\n",
       "      <td>The Reckoning FIRST LOOK: Steve Coogan transforms into depraved presenter Jimmy Savile ahead of new series after BBC delayed broadcast over 'fierce response from victims'</td>\n",
       "      <td>The first official still for the new Jimmy Saville drama, The Reckoning, has been released ahead of its broadcast later this year.</td>\n",
       "      <td>https://www.dailymail.co.uk/tvshowbiz/article-12416995/The-Reckoning-LOOK-Steve-Coogan-transforms-depraved-presenter-Jimmy-Savile-ahead-new-series-BBC-delayed-broadcast-fierce-response-victims.html?ns_mchannel=rss&amp;ito=1490&amp;ns_campaign=1490</td>\n",
       "      <td>Daily Mail</td>\n",
       "    </tr>\n",
       "  </tbody>\n",
       "</table>\n",
       "</div>"
      ],
      "text/plain": [
       "                                                                                                                                                                                                                               title  \\\n",
       "0  From Gemma Collins in the diary room to jokes about hyperventilating into a paper bag: A Level students flood social media with hilarious memes as they collect their exam results                                                  \n",
       "1  How Michael Parkinson sparred with Muhammad Ali, fell out with Meg Ryan and enraged Helen Mirren: Talk show giant's greatest interviews as he dies at 88                                                                            \n",
       "2  Pupils fume they've been 'completely screwed over' by return to pre-Covid marking after top grades drop by 9% in a year - while universities start to run out of Clearing places as thousands miss out on their preferred choices   \n",
       "3  Moment Greek tennis star Stefanos Tsitsipas confronts woman in the crowd imitating a bee to put him off his stroke every time he serves…but he still wins the match                                                                 \n",
       "4  The Reckoning FIRST LOOK: Steve Coogan transforms into depraved presenter Jimmy Savile ahead of new series after BBC delayed broadcast over 'fierce response from victims'                                                          \n",
       "\n",
       "                                                                                                                                                          description  \\\n",
       "0  The long-awaited decision day at the end of the summer holidays has arrived - and with it many emotions, from jubilation to disappointment to grudging acceptance.   \n",
       "1  Affectionately known simply as Parky, Sir Michael Parkinson was one of the world's greatest interviewers.                                                            \n",
       "2  This year's pupils who received their A-level results today did not sit GCSE exams two years ago and were awarded teacher-assessed grades amid the pandemic.         \n",
       "3  A woman has apologised after she was confronted by Stefanos Tsitsipas for imitating a bee in a bizarre incident during his match at the Cincinnati Masters.          \n",
       "4  The first official still for the new Jimmy Saville drama, The Reckoning, has been released ahead of its broadcast later this year.                                   \n",
       "\n",
       "                                                                                                                                                                                                                                              link  \\\n",
       "0  https://www.dailymail.co.uk/news/article-12416495/From-Gemma-Collins-diary-room-jokes-hyperventilating-paper-bag-Level-students-flood-social-media-hilarious-memes-collect-exam-results.html?ns_mchannel=rss&ito=1490&ns_campaign=1490            \n",
       "1  https://www.dailymail.co.uk/tvshowbiz/article-12416303/How-Michael-Parkinson-sparred-Muhammad-Ali-enraged-Helen-Mirren-fell-Meg-Ryan-Talk-giants-greatest-interviews-dies-88.html?ns_mchannel=rss&ito=1490&ns_campaign=1490                       \n",
       "2  https://www.dailymail.co.uk/news/article-12416943/Pupils-fume-theyve-completely-screwed-level-results.html?ns_mchannel=rss&ito=1490&ns_campaign=1490                                                                                              \n",
       "3  https://www.dailymail.co.uk/news/article-12417041/Stefanos-Tsitsipas-confronts-woman-imitating-bee.html?ns_mchannel=rss&ito=1490&ns_campaign=1490                                                                                                 \n",
       "4  https://www.dailymail.co.uk/tvshowbiz/article-12416995/The-Reckoning-LOOK-Steve-Coogan-transforms-depraved-presenter-Jimmy-Savile-ahead-new-series-BBC-delayed-broadcast-fierce-response-victims.html?ns_mchannel=rss&ito=1490&ns_campaign=1490   \n",
       "\n",
       "       source  \n",
       "0  Daily Mail  \n",
       "1  Daily Mail  \n",
       "2  Daily Mail  \n",
       "3  Daily Mail  \n",
       "4  Daily Mail  "
      ]
     },
     "execution_count": 94,
     "metadata": {},
     "output_type": "execute_result"
    }
   ],
   "source": [
    "articles = pd.read_csv(\"./data/articles.csv\")\n",
    "\n",
    "articles.head()"
   ]
  },
  {
   "cell_type": "markdown",
   "metadata": {},
   "source": [
    "## Most frequent words\n",
    "\n",
    "### Processing"
   ]
  },
  {
   "cell_type": "code",
   "execution_count": 95,
   "metadata": {},
   "outputs": [],
   "source": [
    "# Subset the data\n",
    "\n",
    "title_df = articles[[\"title\", \"source\"]].copy()"
   ]
  },
  {
   "cell_type": "code",
   "execution_count": 96,
   "metadata": {},
   "outputs": [],
   "source": [
    "title_df[\"keywords\"] = title_df[\"title\"].str.lower()"
   ]
  },
  {
   "cell_type": "code",
   "execution_count": 97,
   "metadata": {},
   "outputs": [],
   "source": [
    "# Split into tokens\n",
    "\n",
    "title_df[\"keywords\"] = title_df[\"keywords\"].apply(word_tokenize)"
   ]
  },
  {
   "cell_type": "code",
   "execution_count": 98,
   "metadata": {},
   "outputs": [],
   "source": [
    "# Filter out punctuation, stop words, and very short words\n",
    "\n",
    "stops = stopwords.words(\"english\")\n",
    "\n",
    "# Add specific stopwords\n",
    "\n",
    "stops.extend([\"n't\"])\n",
    "\n",
    "def filter_tokens(tokens):\n",
    "\n",
    "    return [t for t in tokens\n",
    "            if t not in stops\n",
    "            and len(t) > 2]\n",
    "\n",
    "title_df[\"keywords\"] = title_df[\"keywords\"].apply(filter_tokens)"
   ]
  },
  {
   "cell_type": "code",
   "execution_count": 99,
   "metadata": {},
   "outputs": [
    {
     "data": {
      "text/html": [
       "<div>\n",
       "<style scoped>\n",
       "    .dataframe tbody tr th:only-of-type {\n",
       "        vertical-align: middle;\n",
       "    }\n",
       "\n",
       "    .dataframe tbody tr th {\n",
       "        vertical-align: top;\n",
       "    }\n",
       "\n",
       "    .dataframe thead th {\n",
       "        text-align: right;\n",
       "    }\n",
       "</style>\n",
       "<table border=\"1\" class=\"dataframe\">\n",
       "  <thead>\n",
       "    <tr style=\"text-align: right;\">\n",
       "      <th></th>\n",
       "      <th>title</th>\n",
       "      <th>source</th>\n",
       "      <th>keywords</th>\n",
       "    </tr>\n",
       "  </thead>\n",
       "  <tbody>\n",
       "    <tr>\n",
       "      <th>125</th>\n",
       "      <td>Saeed Roustaee: Martin Scorsese backs director jailed in Iran for Cannes screening</td>\n",
       "      <td>BBC</td>\n",
       "      <td>[saeed, roustaee, martin, scorsese, backs, director, jailed, iran, cannes, screening]</td>\n",
       "    </tr>\n",
       "    <tr>\n",
       "      <th>157</th>\n",
       "      <td>Food prices: How can I save money on my grocery shop?</td>\n",
       "      <td>BBC</td>\n",
       "      <td>[food, prices, save, money, grocery, shop]</td>\n",
       "    </tr>\n",
       "    <tr>\n",
       "      <th>55</th>\n",
       "      <td>Coleen Rooney admits Wagatha Christie trial nearly broke her marriage to Wayne because she was 'hurt, short-tempered and he didn't think she was the same person anymore'</td>\n",
       "      <td>Daily Mail</td>\n",
       "      <td>[coleen, rooney, admits, wagatha, christie, trial, nearly, broke, marriage, wayne, 'hurt, short-tempered, think, person, anymore]</td>\n",
       "    </tr>\n",
       "  </tbody>\n",
       "</table>\n",
       "</div>"
      ],
      "text/plain": [
       "                                                                                                                                                                         title  \\\n",
       "125  Saeed Roustaee: Martin Scorsese backs director jailed in Iran for Cannes screening                                                                                          \n",
       "157  Food prices: How can I save money on my grocery shop?                                                                                                                       \n",
       "55   Coleen Rooney admits Wagatha Christie trial nearly broke her marriage to Wayne because she was 'hurt, short-tempered and he didn't think she was the same person anymore'   \n",
       "\n",
       "         source  \\\n",
       "125  BBC          \n",
       "157  BBC          \n",
       "55   Daily Mail   \n",
       "\n",
       "                                                                                                                              keywords  \n",
       "125  [saeed, roustaee, martin, scorsese, backs, director, jailed, iran, cannes, screening]                                              \n",
       "157  [food, prices, save, money, grocery, shop]                                                                                         \n",
       "55   [coleen, rooney, admits, wagatha, christie, trial, nearly, broke, marriage, wayne, 'hurt, short-tempered, think, person, anymore]  "
      ]
     },
     "execution_count": 99,
     "metadata": {},
     "output_type": "execute_result"
    }
   ],
   "source": [
    "title_df.sample(3)"
   ]
  },
  {
   "cell_type": "markdown",
   "metadata": {},
   "source": [
    "### Analysis"
   ]
  },
  {
   "cell_type": "code",
   "execution_count": 100,
   "metadata": {},
   "outputs": [],
   "source": [
    "# Split the titles by source\n",
    "\n",
    "dm = title_df[title_df[\"source\"] == \"Daily Mail\"]\n",
    "bbc = title_df[title_df[\"source\"] == \"BBC\"]"
   ]
  },
  {
   "cell_type": "code",
   "execution_count": 101,
   "metadata": {},
   "outputs": [],
   "source": [
    "# Flatten keyword lists\n",
    "\n",
    "all_dm_keywords = flatten(dm[\"keywords\"])\n",
    "all_bbc_keywords = flatten(bbc[\"keywords\"])"
   ]
  },
  {
   "cell_type": "code",
   "execution_count": 102,
   "metadata": {},
   "outputs": [],
   "source": [
    "# Convert to series (makes them very countable)\n",
    "\n",
    "all_dm_keywords = pd.Series(all_dm_keywords)\n",
    "all_bbc_keywords = pd.Series(all_bbc_keywords)\n",
    "\n",
    "# Then count them\n",
    "\n",
    "dm_keyword_counts = all_dm_keywords.value_counts()\n",
    "bbc_keyword_counts = all_bbc_keywords.value_counts()"
   ]
  },
  {
   "cell_type": "code",
   "execution_count": 103,
   "metadata": {},
   "outputs": [
    {
     "data": {
      "text/plain": [
       "[Text(0.5, 1.0, 'BBC')]"
      ]
     },
     "execution_count": 103,
     "metadata": {},
     "output_type": "execute_result"
    },
    {
     "data": {
      "image/png": "[encoded data removed]",
      "text/plain": [
       "<Figure size 2000x1000 with 2 Axes>"
      ]
     },
     "metadata": {},
     "output_type": "display_data"
    }
   ],
   "source": [
    "# Select the top ten of each\n",
    "\n",
    "dm_top_ten = dm_keyword_counts.reset_index()[:10]\n",
    "bbc_top_ten = bbc_keyword_counts.reset_index()[:10]\n",
    "\n",
    "# Then graph them\n",
    "\n",
    "fig, ax = plt.subplots(1, 2, figsize=(20, 10))\n",
    "\n",
    "sns.barplot(dm_top_ten, x=\"index\", y=\"count\", ax=ax[0]).set(title='Daily Mail')\n",
    "sns.barplot(bbc_top_ten, x=\"index\", y=\"count\", ax=ax[1]).set(title='BBC')"
   ]
  },
  {
   "cell_type": "code",
   "execution_count": null,
   "metadata": {},
   "outputs": [],
   "source": []
  }
 ],
 "metadata": {
  "kernelspec": {
   "display_name": "venv",
   "language": "python",
   "name": "python3"
  },
  "language_info": {
   "codemirror_mode": {
    "name": "ipython",
    "version": 3
   },
   "file_extension": ".py",
   "mimetype": "text/x-python",
   "name": "python",
   "nbconvert_exporter": "python",
   "pygments_lexer": "ipython3",
   "version": "3.11.4"
  },
  "orig_nbformat": 4
 },
 "nbformat": 4,
 "nbformat_minor": 2
}
