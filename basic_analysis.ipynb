{
 "cells": [
  {
   "cell_type": "markdown",
   "metadata": {},
   "source": [
    "# Headline analysis\n",
    "\n",
    "This notebook explores the most frequent significant words in headlines.\n",
    "\n",
    "## Imports"
   ]
  },
  {
   "cell_type": "code",
   "execution_count": null,
   "metadata": {},
   "outputs": [],
   "source": [
    "import pandas as pd\n",
    "from pandas.core.common import flatten\n",
    "import matplotlib.pyplot as plt\n",
    "import seaborn as sns"
   ]
  },
  {
   "cell_type": "markdown",
   "metadata": {},
   "source": [
    "## Setup"
   ]
  },
  {
   "cell_type": "code",
   "execution_count": null,
   "metadata": {},
   "outputs": [],
   "source": [
    "pd.set_option(\"max_colwidth\", 0)"
   ]
  },
  {
   "cell_type": "markdown",
   "metadata": {},
   "source": [
    "## Data sourcing"
   ]
  },
  {
   "cell_type": "code",
   "execution_count": null,
   "metadata": {},
   "outputs": [],
   "source": [
    "headlines = pd.read_csv(\"./data/processed_headlines.csv\")\n",
    "\n",
    "headlines.head()"
   ]
  },
  {
   "cell_type": "markdown",
   "metadata": {},
   "source": [
    "## Most frequent words"
   ]
  },
  {
   "cell_type": "markdown",
   "metadata": {},
   "source": [
    "### Analysis"
   ]
  },
  {
   "cell_type": "code",
   "execution_count": null,
   "metadata": {},
   "outputs": [],
   "source": [
    "# Split the keywords strings into lists\n",
    "\n",
    "headlines[\"keywords\"] = headlines[\"keywords\"].str.split(\" \")"
   ]
  },
  {
   "cell_type": "code",
   "execution_count": null,
   "metadata": {},
   "outputs": [],
   "source": [
    "# Split the titles by source\n",
    "\n",
    "dm = headlines[headlines[\"source\"] == \"Daily Mail\"]\n",
    "bbc = headlines[headlines[\"source\"] == \"BBC\"]"
   ]
  },
  {
   "cell_type": "code",
   "execution_count": null,
   "metadata": {},
   "outputs": [],
   "source": [
    "# Flatten keyword lists\n",
    "\n",
    "all_dm_keywords = flatten(dm[\"keywords\"])\n",
    "all_bbc_keywords = flatten(bbc[\"keywords\"])"
   ]
  },
  {
   "cell_type": "code",
   "execution_count": null,
   "metadata": {},
   "outputs": [],
   "source": [
    "# Convert to series (makes them very countable)\n",
    "\n",
    "all_dm_keywords = pd.Series(all_dm_keywords)\n",
    "all_bbc_keywords = pd.Series(all_bbc_keywords)\n",
    "\n",
    "# Then count them\n",
    "\n",
    "dm_keyword_counts = all_dm_keywords.value_counts()\n",
    "bbc_keyword_counts = all_bbc_keywords.value_counts()"
   ]
  },
  {
   "cell_type": "code",
   "execution_count": null,
   "metadata": {},
   "outputs": [],
   "source": [
    "# Select the top ten of each\n",
    "\n",
    "dm_top_ten = dm_keyword_counts.reset_index()[:10]\n",
    "bbc_top_ten = bbc_keyword_counts.reset_index()[:10]\n",
    "\n",
    "# Then graph them\n",
    "\n",
    "fig, ax = plt.subplots(1, 2, figsize=(20, 10))\n",
    "\n",
    "sns.barplot(dm_top_ten, x=\"index\", y=\"count\", ax=ax[0]).set(title='Daily Mail')\n",
    "sns.barplot(bbc_top_ten, x=\"index\", y=\"count\", ax=ax[1]).set(title='BBC')"
   ]
  }
 ],
 "metadata": {
  "kernelspec": {
   "display_name": "venv",
   "language": "python",
   "name": "python3"
  },
  "language_info": {
   "codemirror_mode": {
    "name": "ipython",
    "version": 3
   },
   "file_extension": ".py",
   "mimetype": "text/x-python",
   "name": "python",
   "nbconvert_exporter": "python",
   "pygments_lexer": "ipython3",
   "version": "3.11.4"
  },
  "orig_nbformat": 4
 },
 "nbformat": 4,
 "nbformat_minor": 2
}
